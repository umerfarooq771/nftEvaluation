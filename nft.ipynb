{
 "cells": [
  {
   "cell_type": "code",
   "execution_count": 244,
   "metadata": {},
   "outputs": [],
   "source": [
    "import pandas as pd\n",
    "import datetime\n",
    "import pytz\n",
    "import warnings\n",
    "from sklearn.model_selection import train_test_split\n",
    "from sklearn.feature_selection import RFE\n",
    "from sklearn.linear_model import LinearRegression\n",
    "from sklearn.ensemble import RandomForestRegressor\n",
    "from sklearn.metrics import mean_squared_error\n",
    "from sklearn.model_selection import cross_val_score\n",
    "warnings.filterwarnings('ignore')"
   ]
  },
  {
   "cell_type": "code",
   "execution_count": 245,
   "metadata": {},
   "outputs": [],
   "source": [
    "exchangeRate= pd.read_csv(r'eth_usd_fx_rates.csv')\n",
    "metadata = pd.read_csv(r'token_metadata.csv')\n",
    "tokenSales=pd.read_csv(r'token_sales.csv')"
   ]
  },
  {
   "cell_type": "code",
   "execution_count": 246,
   "metadata": {},
   "outputs": [],
   "source": [
    "## exchange rate\n",
    "for i in range(len(exchangeRate)):\n",
    "    exchangeRate['date'][i] = pd.to_datetime(exchangeRate['date'][i]).date()"
   ]
  },
  {
   "cell_type": "code",
   "execution_count": 247,
   "metadata": {},
   "outputs": [],
   "source": [
    "## Token Sales\n",
    "\n",
    "tokenSales = tokenSales[['token_index','timestamp','eth','usd']]\n",
    "tz = pytz.timezone('America/New_York') \n",
    "for i in range(len(tokenSales)):\n",
    "    tokenSales['timestamp'][i] = datetime.datetime.fromtimestamp(tokenSales['timestamp'][i], tz)"
   ]
  },
  {
   "cell_type": "code",
   "execution_count": 248,
   "metadata": {},
   "outputs": [],
   "source": [
    "## metadata\n",
    "\n",
    "metadata.isnull().sum()\n",
    "metadata.fillna('0',inplace=True)"
   ]
  },
  {
   "cell_type": "code",
   "execution_count": 249,
   "metadata": {},
   "outputs": [],
   "source": [
    "data=pd.merge(tokenSales,metadata,how = 'right',on = 'token_index')\n",
    "data.drop_duplicates(inplace=True)\n",
    "data.dropna(inplace=True)\n",
    "data.reset_index(drop = True,inplace = True)"
   ]
  },
  {
   "cell_type": "code",
   "execution_count": 250,
   "metadata": {},
   "outputs": [
    {
     "data": {
      "text/plain": [
       "datetime.datetime(2021, 8, 11, 0, 5, 28, tzinfo=<DstTzInfo 'America/New_York' EDT-1 day, 20:00:00 DST>)"
      ]
     },
     "execution_count": 250,
     "metadata": {},
     "output_type": "execute_result"
    }
   ],
   "source": [
    "data['timestamp'][i]"
   ]
  },
  {
   "cell_type": "code",
   "execution_count": 251,
   "metadata": {},
   "outputs": [],
   "source": [
    "data['date'] = ''\n",
    "for i in range(len(data)):\n",
    "    data['Trait Count'][i] = int(data['Trait Count'][i].replace(' Trait Count',''))\n",
    "    data['date'][i] = data['timestamp'][i].date()"
   ]
  },
  {
   "cell_type": "code",
   "execution_count": 252,
   "metadata": {},
   "outputs": [],
   "source": [
    "dummiesColumns = ['Skin Tone', 'Type', 'Hair',\n",
    "       'Eyewear', 'Mouth', 'Headwear', 'Facial Hair', 'Smoking Device',\n",
    "       'Other:Earring', 'Neckwear', 'Skin Feature', 'Other:Medical Mask',\n",
    "       'Other:Clown Nose', 'rarest_property_name']"
   ]
  },
  {
   "cell_type": "code",
   "execution_count": 253,
   "metadata": {},
   "outputs": [
    {
     "name": "stdout",
     "output_type": "stream",
     "text": [
      "Skin Tone\n",
      "Type\n",
      "Hair\n",
      "Eyewear\n",
      "Mouth\n",
      "Headwear\n",
      "Facial Hair\n",
      "Smoking Device\n",
      "Other:Earring\n",
      "Neckwear\n",
      "Skin Feature\n",
      "Other:Medical Mask\n",
      "Other:Clown Nose\n",
      "rarest_property_name\n"
     ]
    }
   ],
   "source": [
    "for i in range(len(dummiesColumns)):    \n",
    "    print(dummiesColumns[i])\n",
    "    dummies = data[dummiesColumns[i]].str.get_dummies()\n",
    "    data = pd.concat([data, dummies], axis=1)\n",
    "    data.drop(dummiesColumns[i], axis=1, inplace=True)"
   ]
  },
  {
   "cell_type": "code",
   "execution_count": 254,
   "metadata": {},
   "outputs": [],
   "source": [
    "data=data.sort_values(ascending=True,by = 'timestamp')"
   ]
  },
  {
   "cell_type": "code",
   "execution_count": 255,
   "metadata": {},
   "outputs": [],
   "source": [
    "data=pd.merge(data,exchangeRate,how = 'left',on = 'date')"
   ]
  },
  {
   "cell_type": "code",
   "execution_count": 256,
   "metadata": {},
   "outputs": [],
   "source": [
    "# define the column to check for anomalies\n",
    "column_to_check = 'eth'\n",
    "\n",
    "# calculate IQR and the lower and upper bounds\n",
    "q1 = data[column_to_check].quantile(0.25)\n",
    "q3 = data[column_to_check].quantile(0.75)\n",
    "iqr = q3 - q1\n",
    "lower_bound = q1 - 1.5 * iqr\n",
    "upper_bound = q3 + 1.5 * iqr\n",
    "\n",
    "# identify anomalies (values outside the lower and upper bounds)\n",
    "anomalies = data[(data[column_to_check] < lower_bound) | (data[column_to_check] > upper_bound)]\n",
    "data = data.loc[(data[column_to_check] > lower_bound) | (data[column_to_check] < upper_bound)]\n"
   ]
  },
  {
   "cell_type": "code",
   "execution_count": 258,
   "metadata": {},
   "outputs": [],
   "source": [
    "corrData = data.drop(['timestamp','date','token_index','usd'],axis = 1)"
   ]
  },
  {
   "cell_type": "code",
   "execution_count": 260,
   "metadata": {},
   "outputs": [
    {
     "data": {
      "text/html": [
       "<div>\n",
       "<style scoped>\n",
       "    .dataframe tbody tr th:only-of-type {\n",
       "        vertical-align: middle;\n",
       "    }\n",
       "\n",
       "    .dataframe tbody tr th {\n",
       "        vertical-align: top;\n",
       "    }\n",
       "\n",
       "    .dataframe thead th {\n",
       "        text-align: right;\n",
       "    }\n",
       "</style>\n",
       "<table border=\"1\" class=\"dataframe\">\n",
       "  <thead>\n",
       "    <tr style=\"text-align: right;\">\n",
       "      <th></th>\n",
       "      <th>eth</th>\n",
       "      <th>Trait Count</th>\n",
       "      <th>rarity_score</th>\n",
       "      <th>Albino</th>\n",
       "      <th>Alien</th>\n",
       "      <th>Ape</th>\n",
       "      <th>Darker</th>\n",
       "      <th>Lighter</th>\n",
       "      <th>Medium</th>\n",
       "      <th>Zombie</th>\n",
       "      <th>...</th>\n",
       "      <th>Skin Tone:Alien</th>\n",
       "      <th>Skin Tone:Ape</th>\n",
       "      <th>Skin Tone:Darker</th>\n",
       "      <th>Skin Tone:Lighter</th>\n",
       "      <th>Skin Tone:Medium</th>\n",
       "      <th>Skin Tone:Zombie</th>\n",
       "      <th>Smoking Device:Cigarette</th>\n",
       "      <th>Smoking Device:Pipe</th>\n",
       "      <th>Smoking Device:Vape</th>\n",
       "      <th>open</th>\n",
       "    </tr>\n",
       "  </thead>\n",
       "  <tbody>\n",
       "    <tr>\n",
       "      <th>eth</th>\n",
       "      <td>1.000000</td>\n",
       "      <td>-0.034631</td>\n",
       "      <td>0.198024</td>\n",
       "      <td>0.000788</td>\n",
       "      <td>0.344319</td>\n",
       "      <td>0.218855</td>\n",
       "      <td>-0.022805</td>\n",
       "      <td>-0.014203</td>\n",
       "      <td>-0.022578</td>\n",
       "      <td>0.161483</td>\n",
       "      <td>...</td>\n",
       "      <td>0.344319</td>\n",
       "      <td>0.218855</td>\n",
       "      <td>-0.003311</td>\n",
       "      <td>-0.004748</td>\n",
       "      <td>-0.004981</td>\n",
       "      <td>0.162306</td>\n",
       "      <td>0.000904</td>\n",
       "      <td>-0.005783</td>\n",
       "      <td>-0.005089</td>\n",
       "      <td>0.228683</td>\n",
       "    </tr>\n",
       "    <tr>\n",
       "      <th>Trait Count</th>\n",
       "      <td>-0.034631</td>\n",
       "      <td>1.000000</td>\n",
       "      <td>0.151610</td>\n",
       "      <td>-0.071386</td>\n",
       "      <td>-0.031500</td>\n",
       "      <td>-0.063053</td>\n",
       "      <td>-0.004265</td>\n",
       "      <td>0.036098</td>\n",
       "      <td>0.025326</td>\n",
       "      <td>-0.034199</td>\n",
       "      <td>...</td>\n",
       "      <td>-0.031500</td>\n",
       "      <td>-0.063053</td>\n",
       "      <td>-0.025156</td>\n",
       "      <td>-0.035577</td>\n",
       "      <td>-0.043574</td>\n",
       "      <td>-0.034607</td>\n",
       "      <td>-0.050965</td>\n",
       "      <td>-0.009771</td>\n",
       "      <td>0.023535</td>\n",
       "      <td>-0.009100</td>\n",
       "    </tr>\n",
       "    <tr>\n",
       "      <th>rarity_score</th>\n",
       "      <td>0.198024</td>\n",
       "      <td>0.151610</td>\n",
       "      <td>1.000000</td>\n",
       "      <td>-0.007167</td>\n",
       "      <td>0.337841</td>\n",
       "      <td>0.220979</td>\n",
       "      <td>-0.018770</td>\n",
       "      <td>-0.024309</td>\n",
       "      <td>-0.000790</td>\n",
       "      <td>0.085973</td>\n",
       "      <td>...</td>\n",
       "      <td>0.337841</td>\n",
       "      <td>0.220979</td>\n",
       "      <td>0.053796</td>\n",
       "      <td>0.076098</td>\n",
       "      <td>0.093188</td>\n",
       "      <td>0.084496</td>\n",
       "      <td>-0.012339</td>\n",
       "      <td>-0.016138</td>\n",
       "      <td>-0.007683</td>\n",
       "      <td>-0.048388</td>\n",
       "    </tr>\n",
       "    <tr>\n",
       "      <th>Albino</th>\n",
       "      <td>0.000788</td>\n",
       "      <td>-0.071386</td>\n",
       "      <td>-0.007167</td>\n",
       "      <td>1.000000</td>\n",
       "      <td>-0.007145</td>\n",
       "      <td>-0.012751</td>\n",
       "      <td>-0.215869</td>\n",
       "      <td>-0.200498</td>\n",
       "      <td>-0.203177</td>\n",
       "      <td>-0.020474</td>\n",
       "      <td>...</td>\n",
       "      <td>-0.007145</td>\n",
       "      <td>-0.012751</td>\n",
       "      <td>-0.002154</td>\n",
       "      <td>-0.003046</td>\n",
       "      <td>-0.003730</td>\n",
       "      <td>-0.020359</td>\n",
       "      <td>-0.008883</td>\n",
       "      <td>0.001851</td>\n",
       "      <td>-0.019329</td>\n",
       "      <td>0.017196</td>\n",
       "    </tr>\n",
       "    <tr>\n",
       "      <th>Alien</th>\n",
       "      <td>0.344319</td>\n",
       "      <td>-0.031500</td>\n",
       "      <td>0.337841</td>\n",
       "      <td>-0.007145</td>\n",
       "      <td>1.000000</td>\n",
       "      <td>-0.000921</td>\n",
       "      <td>-0.015591</td>\n",
       "      <td>-0.014481</td>\n",
       "      <td>-0.014674</td>\n",
       "      <td>-0.001479</td>\n",
       "      <td>...</td>\n",
       "      <td>1.000000</td>\n",
       "      <td>-0.000921</td>\n",
       "      <td>-0.000156</td>\n",
       "      <td>-0.000220</td>\n",
       "      <td>-0.000269</td>\n",
       "      <td>-0.001470</td>\n",
       "      <td>-0.000642</td>\n",
       "      <td>-0.002204</td>\n",
       "      <td>-0.002489</td>\n",
       "      <td>-0.013629</td>\n",
       "    </tr>\n",
       "    <tr>\n",
       "      <th>...</th>\n",
       "      <td>...</td>\n",
       "      <td>...</td>\n",
       "      <td>...</td>\n",
       "      <td>...</td>\n",
       "      <td>...</td>\n",
       "      <td>...</td>\n",
       "      <td>...</td>\n",
       "      <td>...</td>\n",
       "      <td>...</td>\n",
       "      <td>...</td>\n",
       "      <td>...</td>\n",
       "      <td>...</td>\n",
       "      <td>...</td>\n",
       "      <td>...</td>\n",
       "      <td>...</td>\n",
       "      <td>...</td>\n",
       "      <td>...</td>\n",
       "      <td>...</td>\n",
       "      <td>...</td>\n",
       "      <td>...</td>\n",
       "      <td>...</td>\n",
       "    </tr>\n",
       "    <tr>\n",
       "      <th>Skin Tone:Zombie</th>\n",
       "      <td>0.162306</td>\n",
       "      <td>-0.034607</td>\n",
       "      <td>0.084496</td>\n",
       "      <td>-0.020359</td>\n",
       "      <td>-0.001470</td>\n",
       "      <td>-0.002624</td>\n",
       "      <td>-0.044428</td>\n",
       "      <td>-0.041265</td>\n",
       "      <td>-0.041816</td>\n",
       "      <td>0.994406</td>\n",
       "      <td>...</td>\n",
       "      <td>-0.001470</td>\n",
       "      <td>-0.002624</td>\n",
       "      <td>-0.000443</td>\n",
       "      <td>-0.000627</td>\n",
       "      <td>-0.000768</td>\n",
       "      <td>1.000000</td>\n",
       "      <td>-0.001828</td>\n",
       "      <td>-0.006282</td>\n",
       "      <td>-0.007092</td>\n",
       "      <td>-0.032683</td>\n",
       "    </tr>\n",
       "    <tr>\n",
       "      <th>Smoking Device:Cigarette</th>\n",
       "      <td>0.000904</td>\n",
       "      <td>-0.050965</td>\n",
       "      <td>-0.012339</td>\n",
       "      <td>-0.008883</td>\n",
       "      <td>-0.000642</td>\n",
       "      <td>-0.001145</td>\n",
       "      <td>0.012663</td>\n",
       "      <td>-0.018004</td>\n",
       "      <td>0.010915</td>\n",
       "      <td>-0.001839</td>\n",
       "      <td>...</td>\n",
       "      <td>-0.000642</td>\n",
       "      <td>-0.001145</td>\n",
       "      <td>-0.000193</td>\n",
       "      <td>-0.000274</td>\n",
       "      <td>-0.000335</td>\n",
       "      <td>-0.001828</td>\n",
       "      <td>1.000000</td>\n",
       "      <td>-0.002741</td>\n",
       "      <td>-0.003094</td>\n",
       "      <td>-0.003091</td>\n",
       "    </tr>\n",
       "    <tr>\n",
       "      <th>Smoking Device:Pipe</th>\n",
       "      <td>-0.005783</td>\n",
       "      <td>-0.009771</td>\n",
       "      <td>-0.016138</td>\n",
       "      <td>0.001851</td>\n",
       "      <td>-0.002204</td>\n",
       "      <td>-0.003934</td>\n",
       "      <td>-0.012254</td>\n",
       "      <td>0.013447</td>\n",
       "      <td>-0.000634</td>\n",
       "      <td>-0.006317</td>\n",
       "      <td>...</td>\n",
       "      <td>-0.002204</td>\n",
       "      <td>-0.003934</td>\n",
       "      <td>-0.000665</td>\n",
       "      <td>-0.000940</td>\n",
       "      <td>-0.001151</td>\n",
       "      <td>-0.006282</td>\n",
       "      <td>-0.002741</td>\n",
       "      <td>1.000000</td>\n",
       "      <td>-0.010633</td>\n",
       "      <td>-0.007193</td>\n",
       "    </tr>\n",
       "    <tr>\n",
       "      <th>Smoking Device:Vape</th>\n",
       "      <td>-0.005089</td>\n",
       "      <td>0.023535</td>\n",
       "      <td>-0.007683</td>\n",
       "      <td>-0.019329</td>\n",
       "      <td>-0.002489</td>\n",
       "      <td>-0.004442</td>\n",
       "      <td>-0.017650</td>\n",
       "      <td>0.032384</td>\n",
       "      <td>-0.000467</td>\n",
       "      <td>-0.007132</td>\n",
       "      <td>...</td>\n",
       "      <td>-0.002489</td>\n",
       "      <td>-0.004442</td>\n",
       "      <td>-0.000750</td>\n",
       "      <td>-0.001061</td>\n",
       "      <td>-0.001299</td>\n",
       "      <td>-0.007092</td>\n",
       "      <td>-0.003094</td>\n",
       "      <td>-0.010633</td>\n",
       "      <td>1.000000</td>\n",
       "      <td>0.001301</td>\n",
       "    </tr>\n",
       "    <tr>\n",
       "      <th>open</th>\n",
       "      <td>0.228683</td>\n",
       "      <td>-0.009100</td>\n",
       "      <td>-0.048388</td>\n",
       "      <td>0.017196</td>\n",
       "      <td>-0.013629</td>\n",
       "      <td>-0.034383</td>\n",
       "      <td>0.015557</td>\n",
       "      <td>-0.002520</td>\n",
       "      <td>-0.015651</td>\n",
       "      <td>-0.033576</td>\n",
       "      <td>...</td>\n",
       "      <td>-0.013629</td>\n",
       "      <td>-0.034383</td>\n",
       "      <td>-0.010914</td>\n",
       "      <td>-0.014659</td>\n",
       "      <td>-0.016620</td>\n",
       "      <td>-0.032683</td>\n",
       "      <td>-0.003091</td>\n",
       "      <td>-0.007193</td>\n",
       "      <td>0.001301</td>\n",
       "      <td>1.000000</td>\n",
       "    </tr>\n",
       "  </tbody>\n",
       "</table>\n",
       "<p>208 rows × 208 columns</p>\n",
       "</div>"
      ],
      "text/plain": [
       "                               eth  Trait Count  rarity_score    Albino   \n",
       "eth                       1.000000    -0.034631      0.198024  0.000788  \\\n",
       "Trait Count              -0.034631     1.000000      0.151610 -0.071386   \n",
       "rarity_score              0.198024     0.151610      1.000000 -0.007167   \n",
       "Albino                    0.000788    -0.071386     -0.007167  1.000000   \n",
       "Alien                     0.344319    -0.031500      0.337841 -0.007145   \n",
       "...                            ...          ...           ...       ...   \n",
       "Skin Tone:Zombie          0.162306    -0.034607      0.084496 -0.020359   \n",
       "Smoking Device:Cigarette  0.000904    -0.050965     -0.012339 -0.008883   \n",
       "Smoking Device:Pipe      -0.005783    -0.009771     -0.016138  0.001851   \n",
       "Smoking Device:Vape      -0.005089     0.023535     -0.007683 -0.019329   \n",
       "open                      0.228683    -0.009100     -0.048388  0.017196   \n",
       "\n",
       "                             Alien       Ape    Darker   Lighter    Medium   \n",
       "eth                       0.344319  0.218855 -0.022805 -0.014203 -0.022578  \\\n",
       "Trait Count              -0.031500 -0.063053 -0.004265  0.036098  0.025326   \n",
       "rarity_score              0.337841  0.220979 -0.018770 -0.024309 -0.000790   \n",
       "Albino                   -0.007145 -0.012751 -0.215869 -0.200498 -0.203177   \n",
       "Alien                     1.000000 -0.000921 -0.015591 -0.014481 -0.014674   \n",
       "...                            ...       ...       ...       ...       ...   \n",
       "Skin Tone:Zombie         -0.001470 -0.002624 -0.044428 -0.041265 -0.041816   \n",
       "Smoking Device:Cigarette -0.000642 -0.001145  0.012663 -0.018004  0.010915   \n",
       "Smoking Device:Pipe      -0.002204 -0.003934 -0.012254  0.013447 -0.000634   \n",
       "Smoking Device:Vape      -0.002489 -0.004442 -0.017650  0.032384 -0.000467   \n",
       "open                     -0.013629 -0.034383  0.015557 -0.002520 -0.015651   \n",
       "\n",
       "                            Zombie  ...  Skin Tone:Alien  Skin Tone:Ape   \n",
       "eth                       0.161483  ...         0.344319       0.218855  \\\n",
       "Trait Count              -0.034199  ...        -0.031500      -0.063053   \n",
       "rarity_score              0.085973  ...         0.337841       0.220979   \n",
       "Albino                   -0.020474  ...        -0.007145      -0.012751   \n",
       "Alien                    -0.001479  ...         1.000000      -0.000921   \n",
       "...                            ...  ...              ...            ...   \n",
       "Skin Tone:Zombie          0.994406  ...        -0.001470      -0.002624   \n",
       "Smoking Device:Cigarette -0.001839  ...        -0.000642      -0.001145   \n",
       "Smoking Device:Pipe      -0.006317  ...        -0.002204      -0.003934   \n",
       "Smoking Device:Vape      -0.007132  ...        -0.002489      -0.004442   \n",
       "open                     -0.033576  ...        -0.013629      -0.034383   \n",
       "\n",
       "                          Skin Tone:Darker  Skin Tone:Lighter   \n",
       "eth                              -0.003311          -0.004748  \\\n",
       "Trait Count                      -0.025156          -0.035577   \n",
       "rarity_score                      0.053796           0.076098   \n",
       "Albino                           -0.002154          -0.003046   \n",
       "Alien                            -0.000156          -0.000220   \n",
       "...                                    ...                ...   \n",
       "Skin Tone:Zombie                 -0.000443          -0.000627   \n",
       "Smoking Device:Cigarette         -0.000193          -0.000274   \n",
       "Smoking Device:Pipe              -0.000665          -0.000940   \n",
       "Smoking Device:Vape              -0.000750          -0.001061   \n",
       "open                             -0.010914          -0.014659   \n",
       "\n",
       "                          Skin Tone:Medium  Skin Tone:Zombie   \n",
       "eth                              -0.004981          0.162306  \\\n",
       "Trait Count                      -0.043574         -0.034607   \n",
       "rarity_score                      0.093188          0.084496   \n",
       "Albino                           -0.003730         -0.020359   \n",
       "Alien                            -0.000269         -0.001470   \n",
       "...                                    ...               ...   \n",
       "Skin Tone:Zombie                 -0.000768          1.000000   \n",
       "Smoking Device:Cigarette         -0.000335         -0.001828   \n",
       "Smoking Device:Pipe              -0.001151         -0.006282   \n",
       "Smoking Device:Vape              -0.001299         -0.007092   \n",
       "open                             -0.016620         -0.032683   \n",
       "\n",
       "                          Smoking Device:Cigarette  Smoking Device:Pipe   \n",
       "eth                                       0.000904            -0.005783  \\\n",
       "Trait Count                              -0.050965            -0.009771   \n",
       "rarity_score                             -0.012339            -0.016138   \n",
       "Albino                                   -0.008883             0.001851   \n",
       "Alien                                    -0.000642            -0.002204   \n",
       "...                                            ...                  ...   \n",
       "Skin Tone:Zombie                         -0.001828            -0.006282   \n",
       "Smoking Device:Cigarette                  1.000000            -0.002741   \n",
       "Smoking Device:Pipe                      -0.002741             1.000000   \n",
       "Smoking Device:Vape                      -0.003094            -0.010633   \n",
       "open                                     -0.003091            -0.007193   \n",
       "\n",
       "                          Smoking Device:Vape      open  \n",
       "eth                                 -0.005089  0.228683  \n",
       "Trait Count                          0.023535 -0.009100  \n",
       "rarity_score                        -0.007683 -0.048388  \n",
       "Albino                              -0.019329  0.017196  \n",
       "Alien                               -0.002489 -0.013629  \n",
       "...                                       ...       ...  \n",
       "Skin Tone:Zombie                    -0.007092 -0.032683  \n",
       "Smoking Device:Cigarette            -0.003094 -0.003091  \n",
       "Smoking Device:Pipe                 -0.010633 -0.007193  \n",
       "Smoking Device:Vape                  1.000000  0.001301  \n",
       "open                                 0.001301  1.000000  \n",
       "\n",
       "[208 rows x 208 columns]"
      ]
     },
     "execution_count": 260,
     "metadata": {},
     "output_type": "execute_result"
    }
   ],
   "source": [
    "corrData.corr()"
   ]
  },
  {
   "cell_type": "code",
   "execution_count": 261,
   "metadata": {},
   "outputs": [],
   "source": [
    "targetCol = 'eth'\n",
    "sorted_corr = corrData.corr()[targetCol].abs().sort_values(ascending=False)"
   ]
  },
  {
   "cell_type": "code",
   "execution_count": 262,
   "metadata": {},
   "outputs": [
    {
     "data": {
      "text/plain": [
       "eth                       1.000000\n",
       "Alien                     0.344319\n",
       "Skin Tone:Alien           0.344319\n",
       "Alien                     0.344319\n",
       "open                      0.228683\n",
       "                            ...   \n",
       "Dark Hair                 0.000258\n",
       "Headwear:Cap Forward      0.000191\n",
       "Hair:Blonde Bob           0.000178\n",
       "Eyewear:Classic Shades    0.000153\n",
       "Big Beard                 0.000096\n",
       "Name: eth, Length: 208, dtype: float64"
      ]
     },
     "execution_count": 262,
     "metadata": {},
     "output_type": "execute_result"
    }
   ],
   "source": [
    "sorted_corr"
   ]
  },
  {
   "cell_type": "code",
   "execution_count": 263,
   "metadata": {},
   "outputs": [
    {
     "data": {
      "text/plain": [
       "Alien                     0\n",
       "Alien                     0\n",
       "Ape                       0\n",
       "Ape                       0\n",
       "Zombie                    0\n",
       "Zombie                    0\n",
       "Alien                     0\n",
       "Alien                     0\n",
       "Ape                       0\n",
       "Ape                       0\n",
       "Female                    0\n",
       "Male                      0\n",
       "Zombie                    0\n",
       "Zombie                    0\n",
       "Buck Teeth                0\n",
       "Beanie                    0\n",
       "Pink With Hat             0\n",
       "Eyewear:Regular Shades    0\n",
       "Headwear:Beanie           0\n",
       "Headwear:Hoodie           0\n",
       "Headwear:Pink With Hat    0\n",
       "Mouth:Buck Teeth          0\n",
       "Skin Tone:Albino          0\n",
       "Skin Tone:Alien           0\n",
       "Skin Tone:Ape             0\n",
       "Skin Tone:Zombie          0\n",
       "dtype: int64"
      ]
     },
     "execution_count": 263,
     "metadata": {},
     "output_type": "execute_result"
    }
   ],
   "source": [
    "X.isna().sum()"
   ]
  },
  {
   "cell_type": "code",
   "execution_count": 223,
   "metadata": {},
   "outputs": [
    {
     "name": "stdout",
     "output_type": "stream",
     "text": [
      "Selected features: Index(['Alien', 'Ape', 'Zombie', 'Alien', 'Ape', 'Female', 'Male', 'Zombie',\n",
      "       'Buck Teeth', 'Beanie', 'Pink With Hat', 'Eyewear:Regular Shades',\n",
      "       'Headwear:Beanie', 'Headwear:Hoodie', 'Headwear:Pink With Hat',\n",
      "       'Mouth:Buck Teeth', 'Skin Tone:Albino', 'Skin Tone:Alien',\n",
      "       'Skin Tone:Ape', 'Skin Tone:Zombie'],\n",
      "      dtype='object')\n"
     ]
    }
   ],
   "source": [
    "X = data.drop(['eth','usd','date','timestamp','open','0'], axis=1)\n",
    "y = data['eth']\n",
    "\n",
    "# Create a linear regression model\n",
    "lr = LinearRegression()\n",
    "\n",
    "# Create an RFE object with 5 features\n",
    "rfe = RFE(lr, n_features_to_select=20)\n",
    "\n",
    "# Fit the RFE object to the data\n",
    "rfe.fit(X, y)\n",
    "\n",
    "# Print the selected features\n",
    "print(\"Selected features:\", X.columns[rfe.support_])\n"
   ]
  },
  {
   "cell_type": "code",
   "execution_count": 232,
   "metadata": {},
   "outputs": [],
   "source": [
    "# Split data into training and testing sets\n",
    "dataRF=data[['Alien', 'Ape', 'Zombie', 'Alien', 'Ape', 'Female', 'Male', 'Zombie',\n",
    "       'Buck Teeth', 'Beanie', 'Pink With Hat', 'Eyewear:Regular Shades',\n",
    "       'Headwear:Beanie', 'Headwear:Hoodie', 'Headwear:Pink With Hat',\n",
    "       'Mouth:Buck Teeth', 'Skin Tone:Albino', 'Skin Tone:Alien',\n",
    "       'Skin Tone:Ape', 'Skin Tone:Zombie','eth']]\n",
    "X = dataRF.drop(['eth'], axis=1)\n",
    "y = dataRF['eth']\n",
    "X_train, X_test, y_train, y_test = train_test_split(X, y, test_size=0.2, random_state=42)\n"
   ]
  },
  {
   "cell_type": "code",
   "execution_count": 238,
   "metadata": {},
   "outputs": [
    {
     "name": "stdout",
     "output_type": "stream",
     "text": [
      "Mean Squared Error: 4770.335091418781\n"
     ]
    }
   ],
   "source": [
    "# Create the random forest regressor model\n",
    "rf = RandomForestRegressor(n_estimators=100, random_state=42)\n",
    "\n",
    "# Train the model on the training set\n",
    "rf.fit(X_train, y_train)\n",
    "scores = cross_val_score(rf, X_train, y_train, cv=5)\n",
    "\n",
    "# Make predictions on the testing set\n",
    "y_pred = rf.predict(X_test)\n",
    "\n",
    "# Evaluate the model performance using mean squared error\n",
    "mse = mean_squared_error(y_test, y_pred)\n",
    "print('Mean Squared Error:', mse)\n"
   ]
  },
  {
   "cell_type": "code",
   "execution_count": 272,
   "metadata": {},
   "outputs": [],
   "source": [
    "scoring=data[['token_index','Alien', 'Ape', 'Zombie', 'Alien', 'Ape', 'Female', 'Male', 'Zombie',\n",
    "       'Buck Teeth', 'Beanie', 'Pink With Hat', 'Eyewear:Regular Shades',\n",
    "       'Headwear:Beanie', 'Headwear:Hoodie', 'Headwear:Pink With Hat',\n",
    "       'Mouth:Buck Teeth', 'Skin Tone:Albino', 'Skin Tone:Alien',\n",
    "       'Skin Tone:Ape', 'Skin Tone:Zombie']]"
   ]
  },
  {
   "cell_type": "code",
   "execution_count": 273,
   "metadata": {},
   "outputs": [],
   "source": [
    "scoring.drop_duplicates(inplace = True)"
   ]
  },
  {
   "cell_type": "code",
   "execution_count": 278,
   "metadata": {},
   "outputs": [],
   "source": [
    "scoringPredictSet = scoring.drop('token_index',axis =1)"
   ]
  },
  {
   "cell_type": "code",
   "execution_count": 279,
   "metadata": {},
   "outputs": [],
   "source": [
    "prediction = rf.predict(scoringPredictSet)"
   ]
  },
  {
   "cell_type": "code",
   "execution_count": 282,
   "metadata": {},
   "outputs": [],
   "source": [
    "scoring['PredictedEth'] = prediction"
   ]
  },
  {
   "cell_type": "code",
   "execution_count": 285,
   "metadata": {},
   "outputs": [],
   "source": [
    "finalResult=scoring[['token_index','PredictedEth']]"
   ]
  },
  {
   "cell_type": "code",
   "execution_count": 286,
   "metadata": {},
   "outputs": [],
   "source": [
    "finalResult.to_csv('FinalEthPriceNFTs.csv')"
   ]
  }
 ],
 "metadata": {
  "kernelspec": {
   "display_name": "Python 3",
   "language": "python",
   "name": "python3"
  },
  "language_info": {
   "codemirror_mode": {
    "name": "ipython",
    "version": 3
   },
   "file_extension": ".py",
   "mimetype": "text/x-python",
   "name": "python",
   "nbconvert_exporter": "python",
   "pygments_lexer": "ipython3",
   "version": "3.9.6"
  },
  "orig_nbformat": 4
 },
 "nbformat": 4,
 "nbformat_minor": 2
}
